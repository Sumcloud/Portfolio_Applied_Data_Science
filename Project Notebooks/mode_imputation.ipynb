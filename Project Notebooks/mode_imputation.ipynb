{
 "cells": [
  {
   "cell_type": "code",
   "execution_count": null,
   "metadata": {
    "collapsed": true
   },
   "outputs": [],
   "source": [
    "import pandas as pd\n",
    "def mode_imputation(df: pd.DataFrame, config: object) -> Tuple[pd.DataFrame, str]:\n",
    "    global dfloader\n",
    "    imputed_df = df.copy()\n",
    "    for target in dfloader.targets:\n",
    "        imputed_df[target].fillna(imputed_df[target].mode()[0], inplace=True)\n",
    "    return imputed_df, None\n"
   ]
  }
 ],
 "metadata": {
  "kernelspec": {
   "display_name": "Python 3",
   "language": "python",
   "name": "python3"
  },
  "language_info": {
   "codemirror_mode": {
    "name": "ipython",
    "version": 2
   },
   "file_extension": ".py",
   "mimetype": "text/x-python",
   "name": "python",
   "nbconvert_exporter": "python",
   "pygments_lexer": "ipython2",
   "version": "2.7.6"
  }
 },
 "nbformat": 4,
 "nbformat_minor": 0
}