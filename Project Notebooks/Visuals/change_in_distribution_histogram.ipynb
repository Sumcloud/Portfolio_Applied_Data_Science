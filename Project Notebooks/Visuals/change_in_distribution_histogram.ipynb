{
 "cells": [
  {
   "cell_type": "code",
   "execution_count": null,
   "metadata": {
    "collapsed": true
   },
   "outputs": [],
   "source": [
    "import pandas as pd\n",
    "import matplotlib.pyplot as plt\n",
    "import numpy as np\n",
    "\n",
    "def change_in_distribution(imputed: pd.DataFrame, original: pd.DataFrame, imp_method:str,gap_size:int,columns=[], bins=200):\n",
    "    for column in columns:\n",
    "        plt.hist(original[column], bins=bins, alpha=0.9, label=\"Original data\")\n",
    "        plt.hist(imputed[\"Imputed smartMeter_\"+column], bins=bins, alpha=0.9, label=imp_method + \"imputed data\")\n",
    "        plt.legend(loc=\"upper right\")\n",
    "        plt.grid(axis=\"both\")\n",
    "        plt.xlabel(\"Measurement value\")\n",
    "        plt.ylabel(\"Measurement frequency \")\n",
    "        plt.title(\"Change in distribution of power measurements\")\n",
    "        plt.show()\n",
    "        plt.savefig(\"Change_In_\" + column + \"_Distribution_Histogram_\"+imp_method+\"_Gap_size_\"+str(gap_size))"
   ]
  }
 ],
 "metadata": {
  "kernelspec": {
   "display_name": "Python 3",
   "language": "python",
   "name": "python3"
  },
  "language_info": {
   "codemirror_mode": {
    "name": "ipython",
    "version": 2
   },
   "file_extension": ".py",
   "mimetype": "text/x-python",
   "name": "python",
   "nbconvert_exporter": "python",
   "pygments_lexer": "ipython2",
   "version": "2.7.6"
  }
 },
 "nbformat": 4,
 "nbformat_minor": 0
}