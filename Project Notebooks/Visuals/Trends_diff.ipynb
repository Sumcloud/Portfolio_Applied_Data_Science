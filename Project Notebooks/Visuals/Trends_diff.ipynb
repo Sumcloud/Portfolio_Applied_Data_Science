{
 "cells": [
  {
   "cell_type": "code",
   "execution_count": null,
   "metadata": {
    "collapsed": true
   },
   "outputs": [],
   "source": [
    "import matplotlib.pyplot as plt\n",
    "import pandas as pd\n",
    "\n",
    "def line_graph_trend(original_df: pd.DataFrame, imputed_df: pd.DataFrame, sheet: str,\n",
    "                     method_used: str, gap_size: int, original_column: str, imputed_column_name: str):\n",
    "    plt.figure(figsize=(12, 8))\n",
    "    plt.plot(original_df[original_column].iloc[0:5000], label=\"original data\", linestyle='solid')\n",
    "    plt.plot(imputed_df[imputed_column_name].iloc[0:5000], label=\"imputed data\", linestyle='dotted')\n",
    "    plt.plot(imputed_df[\"Gapped \" + sheet + \"_\" + original_column].iloc[0:5000], label=\"gapped data\",\n",
    "             linestyle='dashed')\n",
    "\n",
    "    plt.xlabel(\"Index\")\n",
    "    plt.ylabel(\"Power measurement in Watts\")\n",
    "    plt.title(\"Trends in original vs imputed data by \" + method_used + \" gap type: \" + str(gap_size))\n",
    "\n",
    "    plt.legend(loc=\"upper right\")\n",
    "    plt.show()\n",
    "    plt.savefig(\"Trend_visual_imputed_\" + sheet + \"_\" + original_column,\n",
    "                +\"_\" + method_used + \"_gap_type_\" + str(gap_size))"
   ]
  }
 ],
 "metadata": {
  "kernelspec": {
   "display_name": "Python 3",
   "language": "python",
   "name": "python3"
  },
  "language_info": {
   "codemirror_mode": {
    "name": "ipython",
    "version": 2
   },
   "file_extension": ".py",
   "mimetype": "text/x-python",
   "name": "python",
   "nbconvert_exporter": "python",
   "pygments_lexer": "ipython2",
   "version": "2.7.6"
  }
 },
 "nbformat": 4,
 "nbformat_minor": 0
}