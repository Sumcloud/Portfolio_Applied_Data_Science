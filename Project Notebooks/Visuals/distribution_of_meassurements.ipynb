{
 "cells": [
  {
   "cell_type": "code",
   "execution_count": null,
   "metadata": {
    "collapsed": true
   },
   "outputs": [],
   "source": [
    "import pandas as pd\n",
    "import matplotlib.pyplot as plt\n",
    "import numpy as np\n",
    "\n",
    "\n",
    "def distribution_histogram(df: pd.DataFrame, imp_method: str, gap_size: int, columns=[], bins=200):\n",
    "    for column in columns:\n",
    "        plt.hist(x=df[\"Imputed smartMeter_\"+column], bins=bins)\n",
    "        plt.yticks(np.arange(0, 17500, 2500))\n",
    "        plt.xlabel(\"Measurement value\")\n",
    "        plt.ylabel(\"Measurement frequency \")\n",
    "        plt.title(\"Distribution of \" +column+ \" measurements \" + \"imputed by \" + imp_method)\n",
    "        plt.grid(True)\n",
    "        plt.savefig(column + \"_Measurement_Distribution_Histogram_\" + imp_method + \"_Gap_size_\" + str(gap_size))\n",
    "        plt.show()"
   ]
  }
 ],
 "metadata": {
  "kernelspec": {
   "display_name": "Python 3",
   "language": "python",
   "name": "python3"
  },
  "language_info": {
   "codemirror_mode": {
    "name": "ipython",
    "version": 2
   },
   "file_extension": ".py",
   "mimetype": "text/x-python",
   "name": "python",
   "nbconvert_exporter": "python",
   "pygments_lexer": "ipython2",
   "version": "2.7.6"
  }
 },
 "nbformat": 4,
 "nbformat_minor": 0
}