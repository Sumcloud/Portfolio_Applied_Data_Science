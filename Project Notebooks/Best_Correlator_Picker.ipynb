{
 "cells": [
  {
   "cell_type": "code",
   "execution_count": null,
   "metadata": {},
   "outputs": [],
   "source": [
    "def correlation_picker(df: pd.DataFrame, target: str) -> list:\n",
    "\t\"\"\"Gets the highest negative or positive correlator and returns it along with the timestamp\"\"\"\n",
    "\tfeatures = df.drop(columns=[target, \"Timestamp\"], axis=1).columns.values\n",
    "\tbest_corr_column = \"\"\n",
    "\tbest_corr_value = 999\n",
    "\tfor feature in features:\n",
    "          correlation = df[target_column].corr(df[feature], method='pearson')\n",
    "          # print(feature + \" \" + str(correlation))\n",
    "          if best_corr_value == 999:\n",
    "              best_corr_value = correlation\n",
    "              best_corr_column = feature\n",
    "          elif np.abs(correlation) > np.abs(best_corr_value):\n",
    "              best_corr_value = correlation\n",
    "              best_corr_column.replace(best_corr_column, feature)\n",
    "          else:\n",
    "                continue\n",
    "    return [\"Timestamp\", best_corr_column]\n",
    "    \n"
   ]
  }
 ],
 "metadata": {
  "language_info": {
   "name": "python"
  },
  "orig_nbformat": 4
 },
 "nbformat": 4,
 "nbformat_minor": 2
}
