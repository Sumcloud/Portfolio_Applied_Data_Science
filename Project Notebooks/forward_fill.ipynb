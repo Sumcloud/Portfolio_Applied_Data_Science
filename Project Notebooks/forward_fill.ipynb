{
 "cells": [
  {
   "cell_type": "code",
   "execution_count": null,
   "metadata": {
    "collapsed": true
   },
   "outputs": [],
   "source": [
    "import pandas as pd\n",
    "\n",
    "def forward_fill(df:pd.DataFrame,config:object)-> Tuple[pd.DataFrame,str]:\n",
    "    \"\"\"Forward filling Last Observation Carried Forward LOCF by pandas.fillna\"\"\"\n",
    "    return df.fillna(method='ffil'), None\n"
   ]
  }
 ],
 "metadata": {
  "kernelspec": {
   "display_name": "Python 3",
   "language": "python",
   "name": "python3"
  },
  "language_info": {
   "codemirror_mode": {
    "name": "ipython",
    "version": 2
   },
   "file_extension": ".py",
   "mimetype": "text/x-python",
   "name": "python",
   "nbconvert_exporter": "python",
   "pygments_lexer": "ipython2",
   "version": "2.7.6"
  }
 },
 "nbformat": 4,
 "nbformat_minor": 0
}